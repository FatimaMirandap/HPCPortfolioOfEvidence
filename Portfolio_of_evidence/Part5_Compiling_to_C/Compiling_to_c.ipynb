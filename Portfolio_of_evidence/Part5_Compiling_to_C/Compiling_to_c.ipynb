{
 "cells": [
  {
   "cell_type": "code",
   "execution_count": null,
   "metadata": {},
   "outputs": [],
   "source": [
    "import time \n",
    "import numpy as np\n",
    "import sys\n"
   ]
  },
  {
   "cell_type": "code",
   "execution_count": null,
   "metadata": {},
   "outputs": [],
   "source": [
    "sys.path.append('/Users/jairmartinez/Documents/UPY/7th/HPC/Portfolio/Portfoliocode/Scripts/Cython_All')"
   ]
  },
  {
   "cell_type": "code",
   "execution_count": null,
   "metadata": {},
   "outputs": [],
   "source": [
    "from CPython_0.CPython import update as update_python\n",
    "from Cython_1_0.Cython_1 import update as update_c1\n",
    "from Cython_2_0.Cython_2 import update as update_c2\n",
    "from Cython_3_0.Cython_3 import update as update_c3\n",
    "from Cython_4_0.Cython_4 import update as update_c4"
   ]
  },
  {
   "cell_type": "code",
   "execution_count": null,
   "metadata": {},
   "outputs": [],
   "source": [
    "def initialize_lattice(lattice_size=300):\n",
    "    \"\"\" \n",
    "    Function to initialize the lattice state for testing\n",
    "    \"\"\"\n",
    "    # Initialize a lattice as a cross\n",
    "    lattice = np.zeros((lattice_size, lattice_size), dtype=int)\n",
    "    lattice[lattice_size // 2, :] = 1\n",
    "    lattice[:, lattice_size // 2] = 1\n",
    "    return lattice"
   ]
  },
  {
   "cell_type": "code",
   "execution_count": null,
   "metadata": {},
   "outputs": [],
   "source": [
    "def test_performance(update_function, lattice_size=300, iterations=300):\n",
    "    lattice = initialize_lattice(lattice_size)\n",
    "    start_time = time.time()\n",
    "    for _ in range(iterations):\n",
    "        lattice = update_function(lattice)\n",
    "    end_time = time.time()\n",
    "\n",
    "    return end_time - start_time"
   ]
  },
  {
   "cell_type": "code",
   "execution_count": null,
   "metadata": {},
   "outputs": [],
   "source": [
    "cpython_runtime = test_performance(update_python)\n",
    "cython_1_runtime = test_performance(update_c1)\n",
    "cython_2_runtime = test_performance(update_c2)\n",
    "cython_3_runtime = test_performance(update_c3)\n",
    "cython_4_runtime = test_performance(update_c4)"
   ]
  },
  {
   "cell_type": "code",
   "execution_count": null,
   "metadata": {},
   "outputs": [],
   "source": [
    "print(f\"Python Runtime: {cpython_runtime:.2f} seconds\")\n",
    "print(f\"Cython 1 Runtime: {cython_1_runtime:.2f} seconds\")\n",
    "print(f\"Cython 2 Runtime: {cython_2_runtime:.2f} seconds\")\n",
    "print(f\"Cython 3 Runtime: {cython_3_runtime:.2f} seconds\")\n",
    "print(f\"Cython 4 Runtime: {cython_4_runtime:.2f} seconds\")"
   ]
  },
  {
   "cell_type": "code",
   "execution_count": null,
   "metadata": {},
   "outputs": [],
   "source": [
    "import matplotlib.pyplot as plt\n",
    "\n",
    "# Data preparation\n",
    "labels = ['Python','Cython 1', 'Cython 2', 'Cython 3', 'Cython 4']\n",
    "runtimes = [cpython_runtime, cython_1_runtime, cython_2_runtime, cython_3_runtime, cython_4_runtime]\n",
    "\n",
    "# Creating the bar chart\n",
    "plt.figure(figsize=(10, 6))\n",
    "plt.bar(labels, runtimes, width=0.5, color='skyblue', edgecolor='blue')\n",
    "plt.xlabel('Implementation')\n",
    "plt.ylabel('Runtime (seconds)')\n",
    "plt.title('Performance Comparison of Cython Versions')\n",
    "plt.show()"
   ]
  }
 ],
 "metadata": {
  "language_info": {
   "name": "python"
  }
 },
 "nbformat": 4,
 "nbformat_minor": 2
}
