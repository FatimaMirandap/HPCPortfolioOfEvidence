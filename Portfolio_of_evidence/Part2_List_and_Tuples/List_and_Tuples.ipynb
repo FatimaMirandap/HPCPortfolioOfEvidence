{
 "cells": [
  {
   "cell_type": "markdown",
   "metadata": {},
   "source": [
    "Simulación de ejecutar los scripts .py en command line."
   ]
  },
  {
   "cell_type": "code",
   "execution_count": 55,
   "metadata": {},
   "outputs": [
    {
     "name": "stdout",
     "output_type": "stream",
     "text": [
      "1000 loops, best of 5: 252 usec per loop\n",
      "500 loops, best of 5: 422 usec per loop\n",
      "500 loops, best of 5: 584 usec per loop\n"
     ]
    }
   ],
   "source": [
    "!python -m timeit -s \"from delete_last_element import delete_last_element\" \"delete_last_element(10000)\n",
    "!python -m timeit -s \"from delete_last_element import delete_last_element\" \"delete_last_element(20000)\"\n",
    "!python -m timeit -s \"from delete_last_element import delete_last_element\" \"delete_last_element(30000)\""
   ]
  },
  {
   "cell_type": "code",
   "execution_count": 56,
   "metadata": {},
   "outputs": [
    {
     "name": "stdout",
     "output_type": "stream",
     "text": [
      "200 loops, best of 5: 1.7 msec per loop\n",
      "50 loops, best of 5: 3.85 msec per loop\n",
      "50 loops, best of 5: 5.08 msec per loop\n"
     ]
    }
   ],
   "source": [
    "!python -m timeit -s \"from delete_first_element import delete_first_element\" \"delete_first_element(10000)\"\n",
    "!python -m timeit -s \"from delete_first_element import delete_first_element\" \"delete_first_element(20000)\"\n",
    "!python -m timeit -s \"from delete_first_element import delete_first_element\" \"delete_first_element(30000)\""
   ]
  },
  {
   "cell_type": "code",
   "execution_count": 57,
   "metadata": {},
   "outputs": [
    {
     "name": "stdout",
     "output_type": "stream",
     "text": [
      "1000 loops, best of 5: 308 usec per loop\n",
      "500 loops, best of 5: 490 usec per loop\n",
      "200 loops, best of 5: 790 usec per loop\n"
     ]
    }
   ],
   "source": [
    "!python -m timeit -s \"from append_to_end import append_to_end\" \"append_to_end(10000)\"\n",
    "!python -m timeit -s \"from append_to_end import append_to_end\" \"append_to_end(20000)\"\n",
    "!python -m timeit -s \"from append_to_end import append_to_end\" \"append_to_end(30000)\""
   ]
  },
  {
   "cell_type": "code",
   "execution_count": 58,
   "metadata": {},
   "outputs": [
    {
     "name": "stdout",
     "output_type": "stream",
     "text": [
      "50 loops, best of 5: 6.41 msec per loop\n",
      "20 loops, best of 5: 13.8 msec per loop\n",
      "10 loops, best of 5: 19.4 msec per loop\n"
     ]
    }
   ],
   "source": [
    "!python -m timeit -s \"from insert_at_beginning import insert_at_beginning\" \"insert_at_beginning(10000)\"\n",
    "!python -m timeit -s \"from insert_at_beginning import insert_at_beginning\" \"insert_at_beginning(20000)\"\n",
    "!python -m timeit -s \"from insert_at_beginning import insert_at_beginning\" \"insert_at_beginning(30000)\""
   ]
  },
  {
   "cell_type": "code",
   "execution_count": 59,
   "metadata": {},
   "outputs": [
    {
     "name": "stdout",
     "output_type": "stream",
     "text": [
      "                Code N=10000 (μs) N=20000 (μs) N=30000 (μs) Time Complexity\n",
      "0         list.pop()         0.27         0.25         2.10            O(1)\n",
      "1        list.pop(0)         2.73         5.62         7.25            O(N)\n",
      "2     list.append(1)         0.26         0.17         0.93            O(1)\n",
      "3  list.insert(0, 1)        11.86        25.26        32.98            O(N)\n"
     ]
    }
   ],
   "source": [
    "import timeit\n",
    "import pandas as pd\n",
    "\n",
    "def insert_at_beginning(lst):\n",
    "    lst.insert(0, 1)\n",
    "\n",
    "def delete_last_element(lst):\n",
    "    lst.pop()\n",
    "\n",
    "def delete_first_element(lst):\n",
    "    lst.pop(0)\n",
    "\n",
    "def append_to_end(lst):\n",
    "    lst.append(1)\n",
    "\n",
    "def test_list_operation(operation, N, number=1000):\n",
    "    my_list = list(range(N))\n",
    "    time_taken = timeit.timeit(lambda: operation(my_list), number=number)\n",
    "    time_taken_microseconds = time_taken * 1e6 / number\n",
    "    return time_taken_microseconds\n",
    "\n",
    "operations = [\n",
    "    ('list.pop()', delete_last_element, \"O(1)\"),\n",
    "    ('list.pop(0)', delete_first_element, \"O(N)\"),\n",
    "    ('list.append(1)', append_to_end, \"O(1)\"),\n",
    "    ('list.insert(0, 1)', insert_at_beginning, \"O(N)\")\n",
    "]\n",
    "\n",
    "N_values = [10000, 20000, 30000]\n",
    "\n",
    "results = {\n",
    "    \"Code\": [op[0] for op in operations],\n",
    "    \"N=10000 (μs)\": [],\n",
    "    \"N=20000 (μs)\": [],\n",
    "    \"N=30000 (μs)\": [],\n",
    "    \"Time Complexity\": [op[2] for op in operations]\n",
    "}\n",
    "\n",
    "for N in N_values:\n",
    "    for op in operations:\n",
    "        time_taken = test_list_operation(op[1], N)\n",
    "        results[f'N={N} (μs)'].append(f\"{time_taken:.2f}\")\n",
    "\n",
    "results_df = pd.DataFrame(results)\n",
    "print(results_df)"
   ]
  },
  {
   "cell_type": "code",
   "execution_count": 8,
   "metadata": {},
   "outputs": [
    {
     "name": "stdout",
     "output_type": "stream",
     "text": [
      "Code   pop( )  popleft( )  append(1)  appendleft(1)\n",
      "N                                                  \n",
      "10000    3.70        2.40       2.20           2.50\n",
      "20000    4.10        3.20       2.90           1.80\n",
      "30000    2.20        1.40       1.30           2.00\n"
     ]
    }
   ],
   "source": [
    "from collections import deque\n",
    "import pandas as pd\n",
    "import timeit\n",
    "\n",
    "# Define the list sizes we will test\n",
    "sizes = [10000, 20000, 30000]\n",
    "\n",
    "# Function to measure execution time of deque operations\n",
    "def measure_deque_time(operation_code, setup_code=''):\n",
    "    # We time the operation and return the result in microseconds.\n",
    "    return timeit.timeit(operation_code, setup=setup_code, number=1, globals=globals()) * 1e6\n",
    "\n",
    "# Preparing a dictionary to store the results.\n",
    "deque_results = {size: {} for size in sizes}\n",
    "\n",
    "# Measuring the time for each operation on deques of different sizes.\n",
    "for size in sizes:\n",
    "    # For each size, we prepare the deque.\n",
    "    deque_setup = f\"d = deque(range({size}))\"\n",
    "    \n",
    "    # a. Time for popping the last element of a deque.\n",
    "    deque_results[size]['pop()'] = measure_deque_time(\"d.pop()\", deque_setup)\n",
    "    \n",
    "    # b. Time for popping the first element of a deque.\n",
    "    deque_results[size]['popleft()'] = measure_deque_time(\"d.popleft()\", deque_setup)\n",
    "    \n",
    "    # c. Time for appending an element at the end of a deque.\n",
    "    deque_results[size]['append(1)'] = measure_deque_time(\"d.append(1)\", deque_setup)\n",
    "    \n",
    "    # d. Time for appending an element at the beginning of a deque.\n",
    "    deque_results[size]['appendleft(1)'] = measure_deque_time(\"d.appendleft(1)\", deque_setup)\n",
    "\n",
    "# Convert the results into a DataFrame for display\n",
    "deque_df = pd.DataFrame(deque_results).T\n",
    "deque_df.index.name = 'N'\n",
    "deque_df.columns.name = 'Code'\n",
    "deque_df = deque_df.rename(columns=lambda x: x.replace('()', '( )'))\n",
    "\n",
    "# Display the formatted table\n",
    "print(deque_df.to_string(float_format=\"%.2f\"))"
   ]
  },
  {
   "cell_type": "code",
   "execution_count": 10,
   "metadata": {},
   "outputs": [
    {
     "name": "stdout",
     "output_type": "stream",
     "text": [
      "       pop()  popleft()  append(1)  appendleft(1)\n",
      "N                                                \n",
      "10000   5.20       0.90       1.20           1.70\n",
      "20000   1.40       1.00       1.20           0.80\n",
      "30000   0.90       1.00       1.80           1.10\n"
     ]
    }
   ],
   "source": [
    "from collections import deque\n",
    "import pandas as pd\n",
    "import timeit\n",
    "\n",
    "# Define the list sizes we will test\n",
    "sizes = [10000, 20000, 30000]\n",
    "\n",
    "# Function to measure execution time of deque operations\n",
    "def measure_deque_time(operation_code, setup_code=''):\n",
    "    # We time the operation and return the result in microseconds.\n",
    "    return timeit.timeit(operation_code, setup=setup_code, number=1, globals=globals()) * 1e6\n",
    "\n",
    "# Preparing a dictionary to store the results.\n",
    "# The keys are the operations and the values are dictionaries with sizes as keys\n",
    "deque_results = {'pop()': {}, 'popleft()': {}, 'append(1)': {}, 'appendleft(1)': {}}\n",
    "\n",
    "# Measuring the time for each operation on deques of different sizes.\n",
    "for size in sizes:\n",
    "    # For each size, we prepare the deque.\n",
    "    deque_setup = f\"d = deque(range({size}))\"\n",
    "    \n",
    "    # a. Time for popping the last element of a deque.\n",
    "    deque_results['pop()'][size] = measure_deque_time(\"d.pop()\", deque_setup)\n",
    "    \n",
    "    # b. Time for popping the first element of a deque.\n",
    "    deque_results['popleft()'][size] = measure_deque_time(\"d.popleft()\", deque_setup)\n",
    "    \n",
    "    # c. Time for appending an element at the end of a deque.\n",
    "    deque_results['append(1)'][size] = measure_deque_time(\"d.append(1)\", deque_setup)\n",
    "    \n",
    "    # d. Time for appending an element at the beginning of a deque.\n",
    "    deque_results['appendleft(1)'][size] = measure_deque_time(\"d.appendleft(1)\", deque_setup)\n",
    "\n",
    "# Convert the results into a DataFrame for display\n",
    "deque_df = pd.DataFrame(deque_results)\n",
    "\n",
    "# Rename the index to match the book's table format\n",
    "deque_df.index.name = 'N'\n",
    "\n",
    "# Display the formatted table\n",
    "print(deque_df.to_string(float_format=\"%.2f\"))"
   ]
  }
 ],
 "metadata": {
  "kernelspec": {
   "display_name": "Python 3",
   "language": "python",
   "name": "python3"
  },
  "language_info": {
   "codemirror_mode": {
    "name": "ipython",
    "version": 3
   },
   "file_extension": ".py",
   "mimetype": "text/x-python",
   "name": "python",
   "nbconvert_exporter": "python",
   "pygments_lexer": "ipython3",
   "version": "undefined.undefined.undefined"
  }
 },
 "nbformat": 4,
 "nbformat_minor": 2
}
