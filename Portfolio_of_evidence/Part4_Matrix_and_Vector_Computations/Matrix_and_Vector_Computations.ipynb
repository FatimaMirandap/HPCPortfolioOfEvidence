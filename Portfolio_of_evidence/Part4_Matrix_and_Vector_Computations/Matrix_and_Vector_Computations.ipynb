{
 "cells": [
  {
   "cell_type": "code",
   "execution_count": null,
   "metadata": {},
   "outputs": [],
   "source": [
    "import numpy as np\n",
    "\n",
    "class ParticleSimulator:\n",
    "    def evolve_numpy(self, dt):\n",
    "        timestep = 0.00001\n",
    "        nsteps = int(dt / timestep)\n",
    "        r_i = np.array([[p.x, p.y] for p in self.particles])\n",
    "        ang_vel_i = np.array([p.ang_vel for p in self.particles])\n",
    "        \n",
    "        for i in range(nsteps):\n",
    "            norm_i = np.sqrt((r_i ** 2).sum(axis=1))\n",
    "            v_i = r_i[:, [1, 0]]\n",
    "            v_i[:, 0] *= -1\n",
    "            v_i /= norm_i[:, np.newaxis]\n",
    "            d_i = timestep * ang_vel_i[:, np.newaxis] * v_i\n",
    "            r_i += d_i\n",
    "            \n",
    "            for i, p in enumerate(self.particles):\n",
    "                p.x, p.y = r_i[i]"
   ]
  },
  {
   "cell_type": "code",
   "execution_count": null,
   "metadata": {},
   "outputs": [],
   "source": [
    "def benchmark(npart=100, method='python'):\n",
    "    particles = [Particle(uniform(-1.0, 1.0),\n",
    "                          uniform(-1.0, 1.0),\n",
    "                          uniform(-1.0, 1.0))\n",
    "                          for i in range(npart)]\n",
    "    simulator = ParticleSimulator(particles)\n",
    "    if method == 'python':\n",
    "        simulator.evolve_python(0.1)\n",
    "    elif method == 'numpy':\n",
    "        simulator.evolve_numpy(0.1)"
   ]
  },
  {
   "cell_type": "code",
   "execution_count": null,
   "metadata": {},
   "outputs": [],
   "source": [
    "from simul import benchmark\n",
    "%timeit benchmark(100, 'python')\n",
    "%timeit benchmark(100, 'numpy')"
   ]
  },
  {
   "cell_type": "code",
   "execution_count": null,
   "metadata": {},
   "outputs": [],
   "source": [
    "pip install numexpr"
   ]
  },
  {
   "cell_type": "code",
   "execution_count": null,
   "metadata": {},
   "outputs": [],
   "source": [
    "import numpy as np\n",
    "import numexpr as ne\n",
    "\n",
    "# Generate random data for demonstration\n",
    "r = np.random.rand(10000, 2)\n",
    "r_i = r[:, np.newaxis]\n",
    "r_j = r[np.newaxis, :]\n",
    "\n",
    "# Rewrite expression to use numexpr\n",
    "d_ij = ne.evaluate('sum((r_j - r_i)**2, 2)')\n",
    "d_ij = ne.evaluate('sqrt(d_ij)')\n",
    "\n",
    "# Benchmark performance\n",
    "%timeit ne.evaluate('sum((r_j - r_i)**2, 2)')\n",
    "%timeit ne.evaluate('sqrt(d_ij)')"
   ]
  }
 ],
 "metadata": {
  "language_info": {
   "name": "python"
  }
 },
 "nbformat": 4,
 "nbformat_minor": 2
}
